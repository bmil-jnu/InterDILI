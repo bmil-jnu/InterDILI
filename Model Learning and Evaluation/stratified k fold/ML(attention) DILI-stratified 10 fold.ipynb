{
 "cells": [
  {
   "cell_type": "code",
   "execution_count": 1,
   "id": "174793d1",
   "metadata": {},
   "outputs": [],
   "source": [
    "\n",
    "import numpy as np\n",
    "import pandas as pd\n",
    "\n",
    "from sklearn.tree import DecisionTreeClassifier\n",
    "from sklearn.ensemble import RandomForestClassifier\n",
    "from sklearn import svm, datasets, metrics\n",
    "from sklearn.metrics import auc, roc_auc_score, roc_curve, confusion_matrix\n",
    "from sklearn.model_selection import train_test_split\n",
    "from sklearn.preprocessing import minmax_scale\n",
    "from sklearn.preprocessing import StandardScaler\n",
    "\n",
    "from imblearn.combine import *\n",
    "from imblearn.over_sampling import *"
   ]
  },
  {
   "cell_type": "code",
   "execution_count": 2,
   "id": "c8e23cab",
   "metadata": {},
   "outputs": [],
   "source": [
    "df= pd.read_csv('total_df.csv')\n",
    "x = df.iloc[:,11:]\n",
    "y = df['toxicity']"
   ]
  },
  {
   "cell_type": "code",
   "execution_count": 3,
   "id": "62fef97f",
   "metadata": {},
   "outputs": [],
   "source": [
    "from sklearn.model_selection import StratifiedKFold\n",
    "\n",
    "# StratifiedKFold 10-fold\n",
    "cv = StratifiedKFold(n_splits=10, shuffle = True, random_state=8)"
   ]
  },
  {
   "cell_type": "code",
   "execution_count": 4,
   "id": "e27bf1c0",
   "metadata": {},
   "outputs": [],
   "source": [
    "# Attention model\n",
    "\n",
    "from keras.layers import Dense, Dropout, MultiHeadAttention\n",
    "from keras import backend as K\n",
    "from keras.layers import Softmax\n",
    "from tensorflow import keras\n",
    "import tensorflow\n",
    "import tensorflow as tf\n",
    "from tensorflow.keras.optimizers import Adam\n",
    "\n",
    "def create_attention_model(input_dim):\n",
    "    \n",
    "    inputs = tf.keras.layers.Input(shape=(input_dim,))\n",
    "    dense_v = tf.keras.layers.Dense(input_dim, activation = None)(inputs)\n",
    "    attn_score = tf.keras.layers.Softmax(axis = -1)(dense_v)\n",
    "    cal_score = tf.math.multiply(inputs, attn_score)\n",
    "    Dense1 = tf.keras.layers.Dense(512, activation = 'relu', \n",
    "                          kernel_initializer = initializer)(cal_score)\n",
    "    Dense1_BN = tf.keras.layers.BatchNormalization()(Dense1)\n",
    "    Dropout = tf.keras.layers.Dropout(rate=0.25)(Dense1_BN)\n",
    "    outputs = tf.keras.layers.Dense(1, activation = 'sigmoid')(Dropout)\n",
    "\n",
    "    model = tf.keras.Model(inputs=inputs, outputs=outputs)\n",
    "    model.compile(optimizer=Adam(lr=0.001, beta_1=0.9, beta_2=0.999),\n",
    "                  loss=\"binary_crossentropy\",\n",
    "                  metrics=[\"accuracy\"])\n",
    "    return model\n",
    "\n",
    "#callbacks\n",
    "callbacks = [\n",
    "    tensorflow.keras.callbacks.ModelCheckpoint(\n",
    "        \"random_DILIattention.h5\", save_best_only=True, monitor=\"val_loss\"\n",
    "    ),\n",
    "    tensorflow.keras.callbacks.EarlyStopping(monitor=\"val_loss\", patience=30, verbose=1),\n",
    "]\n",
    "\n",
    "\n",
    "# input data\n",
    "input_dim = x.shape[1]\n",
    "\n",
    "# Layer weight initializers \n",
    "initializer = tf.keras.initializers.HeNormal()\n",
    "\n",
    "\n",
    "# L2 regularizer \n",
    "from tensorflow.keras import regularizers\n",
    "regularizer = regularizers.l2(0.001)\n",
    "\n",
    "#model hyperparameter\n",
    "epochs = 10\n",
    "batch_size = 32"
   ]
  },
  {
   "cell_type": "code",
   "execution_count": 6,
   "id": "f32ea125",
   "metadata": {},
   "outputs": [
    {
     "name": "stderr",
     "output_type": "stream",
     "text": [
      "C:\\Users\\user\\anaconda3\\envs\\TCR\\lib\\site-packages\\keras\\src\\initializers\\initializers.py:120: UserWarning: The initializer HeNormal is unseeded and being called multiple times, which will return identical values each time (even if the initializer is unseeded). Please update your code to provide a seed to the initializer, or avoid using the same initializer instance more than once.\n",
      "  warnings.warn(\n",
      "WARNING:absl:`lr` is deprecated in Keras optimizer, please use `learning_rate` or use the legacy optimizer, e.g.,tf.keras.optimizers.legacy.Adam.\n"
     ]
    },
    {
     "name": "stdout",
     "output_type": "stream",
     "text": [
      "6/6 [==============================] - 0s 2ms/step\n"
     ]
    },
    {
     "name": "stderr",
     "output_type": "stream",
     "text": [
      "C:\\Users\\user\\anaconda3\\envs\\TCR\\lib\\site-packages\\keras\\src\\initializers\\initializers.py:120: UserWarning: The initializer HeNormal is unseeded and being called multiple times, which will return identical values each time (even if the initializer is unseeded). Please update your code to provide a seed to the initializer, or avoid using the same initializer instance more than once.\n",
      "  warnings.warn(\n",
      "WARNING:absl:`lr` is deprecated in Keras optimizer, please use `learning_rate` or use the legacy optimizer, e.g.,tf.keras.optimizers.legacy.Adam.\n"
     ]
    },
    {
     "name": "stdout",
     "output_type": "stream",
     "text": [
      "6/6 [==============================] - 0s 3ms/step\n"
     ]
    },
    {
     "name": "stderr",
     "output_type": "stream",
     "text": [
      "C:\\Users\\user\\anaconda3\\envs\\TCR\\lib\\site-packages\\keras\\src\\initializers\\initializers.py:120: UserWarning: The initializer HeNormal is unseeded and being called multiple times, which will return identical values each time (even if the initializer is unseeded). Please update your code to provide a seed to the initializer, or avoid using the same initializer instance more than once.\n",
      "  warnings.warn(\n",
      "WARNING:absl:`lr` is deprecated in Keras optimizer, please use `learning_rate` or use the legacy optimizer, e.g.,tf.keras.optimizers.legacy.Adam.\n"
     ]
    },
    {
     "name": "stdout",
     "output_type": "stream",
     "text": [
      "6/6 [==============================] - 0s 2ms/step\n"
     ]
    },
    {
     "name": "stderr",
     "output_type": "stream",
     "text": [
      "C:\\Users\\user\\anaconda3\\envs\\TCR\\lib\\site-packages\\keras\\src\\initializers\\initializers.py:120: UserWarning: The initializer HeNormal is unseeded and being called multiple times, which will return identical values each time (even if the initializer is unseeded). Please update your code to provide a seed to the initializer, or avoid using the same initializer instance more than once.\n",
      "  warnings.warn(\n",
      "WARNING:absl:`lr` is deprecated in Keras optimizer, please use `learning_rate` or use the legacy optimizer, e.g.,tf.keras.optimizers.legacy.Adam.\n"
     ]
    },
    {
     "name": "stdout",
     "output_type": "stream",
     "text": [
      "6/6 [==============================] - 0s 2ms/step\n"
     ]
    },
    {
     "name": "stderr",
     "output_type": "stream",
     "text": [
      "C:\\Users\\user\\anaconda3\\envs\\TCR\\lib\\site-packages\\keras\\src\\initializers\\initializers.py:120: UserWarning: The initializer HeNormal is unseeded and being called multiple times, which will return identical values each time (even if the initializer is unseeded). Please update your code to provide a seed to the initializer, or avoid using the same initializer instance more than once.\n",
      "  warnings.warn(\n",
      "WARNING:absl:`lr` is deprecated in Keras optimizer, please use `learning_rate` or use the legacy optimizer, e.g.,tf.keras.optimizers.legacy.Adam.\n"
     ]
    },
    {
     "name": "stdout",
     "output_type": "stream",
     "text": [
      "6/6 [==============================] - 0s 2ms/step\n"
     ]
    },
    {
     "name": "stderr",
     "output_type": "stream",
     "text": [
      "C:\\Users\\user\\anaconda3\\envs\\TCR\\lib\\site-packages\\keras\\src\\initializers\\initializers.py:120: UserWarning: The initializer HeNormal is unseeded and being called multiple times, which will return identical values each time (even if the initializer is unseeded). Please update your code to provide a seed to the initializer, or avoid using the same initializer instance more than once.\n",
      "  warnings.warn(\n",
      "WARNING:absl:`lr` is deprecated in Keras optimizer, please use `learning_rate` or use the legacy optimizer, e.g.,tf.keras.optimizers.legacy.Adam.\n"
     ]
    },
    {
     "name": "stdout",
     "output_type": "stream",
     "text": [
      "6/6 [==============================] - 0s 2ms/step\n"
     ]
    },
    {
     "name": "stderr",
     "output_type": "stream",
     "text": [
      "C:\\Users\\user\\anaconda3\\envs\\TCR\\lib\\site-packages\\keras\\src\\initializers\\initializers.py:120: UserWarning: The initializer HeNormal is unseeded and being called multiple times, which will return identical values each time (even if the initializer is unseeded). Please update your code to provide a seed to the initializer, or avoid using the same initializer instance more than once.\n",
      "  warnings.warn(\n",
      "WARNING:absl:`lr` is deprecated in Keras optimizer, please use `learning_rate` or use the legacy optimizer, e.g.,tf.keras.optimizers.legacy.Adam.\n"
     ]
    },
    {
     "name": "stdout",
     "output_type": "stream",
     "text": [
      "6/6 [==============================] - 0s 2ms/step\n"
     ]
    },
    {
     "name": "stderr",
     "output_type": "stream",
     "text": [
      "C:\\Users\\user\\anaconda3\\envs\\TCR\\lib\\site-packages\\keras\\src\\initializers\\initializers.py:120: UserWarning: The initializer HeNormal is unseeded and being called multiple times, which will return identical values each time (even if the initializer is unseeded). Please update your code to provide a seed to the initializer, or avoid using the same initializer instance more than once.\n",
      "  warnings.warn(\n",
      "WARNING:absl:`lr` is deprecated in Keras optimizer, please use `learning_rate` or use the legacy optimizer, e.g.,tf.keras.optimizers.legacy.Adam.\n"
     ]
    },
    {
     "name": "stdout",
     "output_type": "stream",
     "text": [
      "6/6 [==============================] - 0s 2ms/step\n"
     ]
    },
    {
     "name": "stderr",
     "output_type": "stream",
     "text": [
      "C:\\Users\\user\\anaconda3\\envs\\TCR\\lib\\site-packages\\keras\\src\\initializers\\initializers.py:120: UserWarning: The initializer HeNormal is unseeded and being called multiple times, which will return identical values each time (even if the initializer is unseeded). Please update your code to provide a seed to the initializer, or avoid using the same initializer instance more than once.\n",
      "  warnings.warn(\n",
      "WARNING:absl:`lr` is deprecated in Keras optimizer, please use `learning_rate` or use the legacy optimizer, e.g.,tf.keras.optimizers.legacy.Adam.\n"
     ]
    },
    {
     "name": "stdout",
     "output_type": "stream",
     "text": [
      "6/6 [==============================] - 0s 2ms/step\n"
     ]
    },
    {
     "name": "stderr",
     "output_type": "stream",
     "text": [
      "C:\\Users\\user\\anaconda3\\envs\\TCR\\lib\\site-packages\\keras\\src\\initializers\\initializers.py:120: UserWarning: The initializer HeNormal is unseeded and being called multiple times, which will return identical values each time (even if the initializer is unseeded). Please update your code to provide a seed to the initializer, or avoid using the same initializer instance more than once.\n",
      "  warnings.warn(\n",
      "WARNING:absl:`lr` is deprecated in Keras optimizer, please use `learning_rate` or use the legacy optimizer, e.g.,tf.keras.optimizers.legacy.Adam.\n"
     ]
    },
    {
     "name": "stdout",
     "output_type": "stream",
     "text": [
      "6/6 [==============================] - 0s 2ms/step\n",
      "Average Accuracy: 0.7486486486486486\n",
      "Average Precision: 0.7695032708843977\n",
      "Average Recall/Sensitivity: 0.7414912280701754\n",
      "Average Specificity: 0.7561672908863921\n",
      "Average F1 Score: 0.7443325674289769\n"
     ]
    }
   ],
   "source": [
    "from sklearn.metrics import f1_score\n",
    "from sklearn.metrics import f1_score, roc_auc_score, confusion_matrix, precision_recall_curve\n",
    "from sklearn.metrics import precision_score\n",
    "from sklearn.metrics import recall_score\n",
    "from sklearn.metrics import accuracy_score\n",
    "\n",
    "# Initialize variables to store performance metrics\n",
    "total_accuracy, total_precision, total_recall, total_specificity, total_f1_score = 0, 0, 0, 0, 0\n",
    "\n",
    "# Iterate through folds\n",
    "for i, (train_idx, test_idx) in enumerate(cv.split(x, y)):\n",
    "    # Create and train the NN model on the current fold\n",
    "    nn = create_attention_model(input_dim=x.shape[1])\n",
    "    nn.fit(x.iloc[train_idx], y.iloc[train_idx], epochs=10, batch_size=32, verbose=0)\n",
    "    \n",
    "    # Predict probabilities and convert to binary predictions\n",
    "    y_scores = nn.predict(x.iloc[test_idx])\n",
    "    y_pred = (y_scores > 0.5).astype(int)\n",
    "    \n",
    "    # Calculate confusion matrix and performance metrics\n",
    "    tn, fp, fn, tp = confusion_matrix(y.iloc[test_idx], y_pred).ravel()\n",
    "    accuracy = accuracy_score(y.iloc[test_idx], y_pred)\n",
    "    precision = precision_score(y.iloc[test_idx], y_pred)\n",
    "    recall = recall_score(y.iloc[test_idx], y_pred) # same as sensitivity\n",
    "    specificity = tn / (tn + fp)\n",
    "    f1 = f1_score(y.iloc[test_idx], y_pred)\n",
    "    \n",
    "    # Accumulate metrics\n",
    "    total_accuracy += accuracy\n",
    "    total_precision += precision\n",
    "    total_recall += recall\n",
    "    total_specificity += specificity\n",
    "    total_f1_score += f1\n",
    "\n",
    "# Average the performance metrics over all folds\n",
    "num_folds = cv.get_n_splits()\n",
    "avg_accuracy = total_accuracy / num_folds\n",
    "avg_precision = total_precision / num_folds\n",
    "avg_recall = total_recall / num_folds\n",
    "avg_specificity = total_specificity / num_folds\n",
    "avg_f1_score = total_f1_score / num_folds\n",
    "\n",
    "print(\"Average Accuracy:\", avg_accuracy)\n",
    "print(\"Average Precision:\", avg_precision)\n",
    "print(\"Average Recall/Sensitivity:\", avg_recall)\n",
    "print(\"Average Specificity:\", avg_specificity)\n",
    "print(\"Average F1 Score:\", avg_f1_score)\n"
   ]
  },
  {
   "cell_type": "code",
   "execution_count": null,
   "id": "460cd2f1",
   "metadata": {},
   "outputs": [],
   "source": []
  }
 ],
 "metadata": {
  "kernelspec": {
   "display_name": "Python 3 (ipykernel)",
   "language": "python",
   "name": "python3"
  },
  "language_info": {
   "codemirror_mode": {
    "name": "ipython",
    "version": 3
   },
   "file_extension": ".py",
   "mimetype": "text/x-python",
   "name": "python",
   "nbconvert_exporter": "python",
   "pygments_lexer": "ipython3",
   "version": "3.11.4"
  }
 },
 "nbformat": 4,
 "nbformat_minor": 5
}
